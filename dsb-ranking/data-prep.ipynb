{
 "cells": [
  {
   "cell_type": "code",
   "execution_count": 1,
   "metadata": {},
   "outputs": [],
   "source": [
    "import polars as pl\n",
    "import os\n",
    "\n",
    "# Current working directory\n",
    "current_dir = os.getcwd()\n",
    "\n",
    "csv_path = os.path.join(current_dir, 'data', 'bank-transaction.csv')\n",
    "\n",
    "df = pl.read_csv(csv_path, try_parse_dates=True)"
   ]
  },
  {
   "cell_type": "code",
   "execution_count": 2,
   "metadata": {},
   "outputs": [
    {
     "data": {
      "text/html": [
       "<div><style>\n",
       ".dataframe > thead > tr,\n",
       ".dataframe > tbody > tr {\n",
       "  text-align: right;\n",
       "  white-space: pre-wrap;\n",
       "}\n",
       "</style>\n",
       "<small>shape: (36, 6)</small><table border=\"1\" class=\"dataframe\"><thead><tr><th>Bank</th><th>Transaction Month</th><th>Value</th><th>Bank Rank per Month</th><th>Avg Rank per Bank</th><th>Avg Transaction Value per Rank</th></tr><tr><td>str</td><td>str</td><td>i64</td><td>u32</td><td>f64</td><td>i32</td></tr></thead><tbody><tr><td>&quot;DTB&quot;</td><td>&quot;January&quot;</td><td>67063</td><td>1</td><td>1.75</td><td>66968</td></tr><tr><td>&quot;DTB&quot;</td><td>&quot;October&quot;</td><td>58924</td><td>2</td><td>1.75</td><td>48634</td></tr><tr><td>&quot;DSB&quot;</td><td>&quot;February&quot;</td><td>28622</td><td>3</td><td>2.33</td><td>34621</td></tr><tr><td>&quot;DSB&quot;</td><td>&quot;August&quot;</td><td>38167</td><td>3</td><td>2.33</td><td>34621</td></tr><tr><td>&quot;DSB&quot;</td><td>&quot;May&quot;</td><td>45000</td><td>2</td><td>2.33</td><td>48634</td></tr><tr><td>&hellip;</td><td>&hellip;</td><td>&hellip;</td><td>&hellip;</td><td>&hellip;</td><td>&hellip;</td></tr><tr><td>&quot;DS&quot;</td><td>&quot;March&quot;</td><td>36799</td><td>3</td><td>1.92</td><td>34621</td></tr><tr><td>&quot;DSB&quot;</td><td>&quot;January&quot;</td><td>45036</td><td>3</td><td>2.33</td><td>34621</td></tr><tr><td>&quot;DS&quot;</td><td>&quot;November&quot;</td><td>96868</td><td>1</td><td>1.92</td><td>66968</td></tr><tr><td>&quot;DTB&quot;</td><td>&quot;September&quot;</td><td>23195</td><td>3</td><td>1.75</td><td>34621</td></tr><tr><td>&quot;DTB&quot;</td><td>&quot;May&quot;</td><td>58384</td><td>1</td><td>1.75</td><td>66968</td></tr></tbody></table></div>"
      ],
      "text/plain": [
       "shape: (36, 6)\n",
       "┌──────┬───────────────────┬───────┬─────────────────────┬───────────────────┬─────────────────┐\n",
       "│ Bank ┆ Transaction Month ┆ Value ┆ Bank Rank per Month ┆ Avg Rank per Bank ┆ Avg Transaction │\n",
       "│ ---  ┆ ---               ┆ ---   ┆ ---                 ┆ ---               ┆ Value per Rank  │\n",
       "│ str  ┆ str               ┆ i64   ┆ u32                 ┆ f64               ┆ ---             │\n",
       "│      ┆                   ┆       ┆                     ┆                   ┆ i32             │\n",
       "╞══════╪═══════════════════╪═══════╪═════════════════════╪═══════════════════╪═════════════════╡\n",
       "│ DTB  ┆ January           ┆ 67063 ┆ 1                   ┆ 1.75              ┆ 66968           │\n",
       "│ DTB  ┆ October           ┆ 58924 ┆ 2                   ┆ 1.75              ┆ 48634           │\n",
       "│ DSB  ┆ February          ┆ 28622 ┆ 3                   ┆ 2.33              ┆ 34621           │\n",
       "│ DSB  ┆ August            ┆ 38167 ┆ 3                   ┆ 2.33              ┆ 34621           │\n",
       "│ DSB  ┆ May               ┆ 45000 ┆ 2                   ┆ 2.33              ┆ 48634           │\n",
       "│ …    ┆ …                 ┆ …     ┆ …                   ┆ …                 ┆ …               │\n",
       "│ DS   ┆ March             ┆ 36799 ┆ 3                   ┆ 1.92              ┆ 34621           │\n",
       "│ DSB  ┆ January           ┆ 45036 ┆ 3                   ┆ 2.33              ┆ 34621           │\n",
       "│ DS   ┆ November          ┆ 96868 ┆ 1                   ┆ 1.92              ┆ 66968           │\n",
       "│ DTB  ┆ September         ┆ 23195 ┆ 3                   ┆ 1.75              ┆ 34621           │\n",
       "│ DTB  ┆ May               ┆ 58384 ┆ 1                   ┆ 1.75              ┆ 66968           │\n",
       "└──────┴───────────────────┴───────┴─────────────────────┴───────────────────┴─────────────────┘"
      ]
     },
     "execution_count": 2,
     "metadata": {},
     "output_type": "execute_result"
    }
   ],
   "source": [
    "month_dict = {\n",
    "    1: \"January\",\n",
    "    2: \"February\",\n",
    "    3: \"March\",\n",
    "    4: \"April\",\n",
    "    5: \"May\",\n",
    "    6: \"June\",\n",
    "    7: \"July\",\n",
    "    8: \"August\",\n",
    "    9: \"September\",\n",
    "    10: \"October\",\n",
    "    11: \"November\",\n",
    "    12: \"December\"\n",
    "}\n",
    "\n",
    "output_df = (\n",
    "    df\n",
    "    .with_columns(\n",
    "        pl.col('Transaction Code').str.split('-').list.get(0).alias('Bank'),\n",
    "        pl.col('Transaction Date').dt.month().replace(month_dict).alias('Transaction Month')\n",
    "    )\n",
    "    .group_by('Bank', 'Transaction Month')\n",
    "    .agg(pl.col('Value').sum())\n",
    "    .with_columns(\n",
    "        pl.col('Value').rank(\"dense\", descending=True).over('Transaction Month').alias('Bank Rank per Month')\n",
    "    )\n",
    "    .with_columns(\n",
    "        pl.col('Bank Rank per Month').mean().over('Bank').round(2).alias('Avg Rank per Bank'),\n",
    "        pl.col('Value').mean().over('Bank Rank per Month').round().cast(pl.Int32).alias('Avg Transaction Value per Rank')\n",
    "    )\n",
    ")\n",
    "output_df"
   ]
  }
 ],
 "metadata": {
  "kernelspec": {
   "display_name": "Python 3",
   "language": "python",
   "name": "python3"
  },
  "language_info": {
   "codemirror_mode": {
    "name": "ipython",
    "version": 3
   },
   "file_extension": ".py",
   "mimetype": "text/x-python",
   "name": "python",
   "nbconvert_exporter": "python",
   "pygments_lexer": "ipython3",
   "version": "3.12.6"
  }
 },
 "nbformat": 4,
 "nbformat_minor": 2
}
